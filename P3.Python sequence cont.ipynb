{
 "cells": [
  {
   "cell_type": "markdown",
   "metadata": {
    "ExecuteTime": {
     "end_time": "2021-10-02T19:23:51.107396Z",
     "start_time": "2021-10-02T19:23:51.089407Z"
    }
   },
   "source": [
    "# Sequence cont..."
   ]
  },
  {
   "cell_type": "markdown",
   "metadata": {
    "ExecuteTime": {
     "end_time": "2021-10-02T19:25:01.493385Z",
     "start_time": "2021-10-02T19:25:01.476399Z"
    }
   },
   "source": [
    "### Spectial methods of lists"
   ]
  },
  {
   "cell_type": "code",
   "execution_count": 23,
   "metadata": {
    "ExecuteTime": {
     "end_time": "2021-10-02T19:38:13.351925Z",
     "start_time": "2021-10-02T19:38:13.331422Z"
    }
   },
   "outputs": [
    {
     "data": {
      "text/plain": [
       "[1, 2, 3, 4, 5, 6, 7, 8, 9, 10]"
      ]
     },
     "execution_count": 23,
     "metadata": {},
     "output_type": "execute_result"
    }
   ],
   "source": [
    "#Creating a list and adding an elemt at the end\n",
    "list = [1,2,3,4,5,6,7,8,9]\n",
    "list.append(10)\n",
    "list"
   ]
  },
  {
   "cell_type": "code",
   "execution_count": 11,
   "metadata": {
    "ExecuteTime": {
     "end_time": "2021-10-02T19:29:50.075217Z",
     "start_time": "2021-10-02T19:29:50.065221Z"
    }
   },
   "outputs": [
    {
     "data": {
      "text/plain": [
       "[1, 2, 11, 3, 4, 5, 6, 7, 8, 9, 10]"
      ]
     },
     "execution_count": 11,
     "metadata": {},
     "output_type": "execute_result"
    }
   ],
   "source": [
    "# inserting an element in particular location.\n",
    "list.insert(2,11)\n",
    "list"
   ]
  },
  {
   "cell_type": "code",
   "execution_count": 12,
   "metadata": {
    "ExecuteTime": {
     "end_time": "2021-10-02T19:30:49.793473Z",
     "start_time": "2021-10-02T19:30:49.784477Z"
    }
   },
   "outputs": [
    {
     "data": {
      "text/plain": [
       "[1, 2, 22, 3, 4, 5, 6, 7, 8, 9, 10]"
      ]
     },
     "execution_count": 12,
     "metadata": {},
     "output_type": "execute_result"
    }
   ],
   "source": [
    "#assigning an element at a location/ Replacing an element in a list\n",
    "list[2]=22\n",
    "list"
   ]
  },
  {
   "cell_type": "markdown",
   "metadata": {},
   "source": [
    "## Delete operation"
   ]
  },
  {
   "cell_type": "code",
   "execution_count": 24,
   "metadata": {
    "ExecuteTime": {
     "end_time": "2021-10-02T19:38:15.873565Z",
     "start_time": "2021-10-02T19:38:15.866567Z"
    }
   },
   "outputs": [
    {
     "data": {
      "text/plain": [
       "[1, 2, 4, 5, 6, 7, 8, 9, 10]"
      ]
     },
     "execution_count": 24,
     "metadata": {},
     "output_type": "execute_result"
    }
   ],
   "source": [
    "#Delete operation, Removed 3\n",
    "del list[2]\n",
    "list"
   ]
  },
  {
   "cell_type": "code",
   "execution_count": 25,
   "metadata": {
    "ExecuteTime": {
     "end_time": "2021-10-02T19:38:19.016966Z",
     "start_time": "2021-10-02T19:38:18.994981Z"
    }
   },
   "outputs": [
    {
     "data": {
      "text/plain": [
       "10"
      ]
     },
     "execution_count": 25,
     "metadata": {},
     "output_type": "execute_result"
    }
   ],
   "source": [
    "#remove elemet form the end of list and return the removed value\n",
    "list.pop()"
   ]
  },
  {
   "cell_type": "code",
   "execution_count": null,
   "metadata": {},
   "outputs": [],
   "source": [
    "#[] is used to accessing the elements in general, () represent a method or function "
   ]
  },
  {
   "cell_type": "code",
   "execution_count": 26,
   "metadata": {
    "ExecuteTime": {
     "end_time": "2021-10-02T19:38:24.214903Z",
     "start_time": "2021-10-02T19:38:24.194919Z"
    }
   },
   "outputs": [
    {
     "data": {
      "text/plain": [
       "4"
      ]
     },
     "execution_count": 26,
     "metadata": {},
     "output_type": "execute_result"
    }
   ],
   "source": [
    "#Popping a perticular location element\n",
    "list.pop(2)"
   ]
  },
  {
   "cell_type": "code",
   "execution_count": 30,
   "metadata": {
    "ExecuteTime": {
     "end_time": "2021-10-02T19:56:11.954768Z",
     "start_time": "2021-10-02T19:56:11.945773Z"
    }
   },
   "outputs": [
    {
     "data": {
      "text/plain": [
       "[1, 2, 5, 6, 7, 8, 9]"
      ]
     },
     "execution_count": 30,
     "metadata": {},
     "output_type": "execute_result"
    }
   ],
   "source": [
    "list"
   ]
  },
  {
   "cell_type": "code",
   "execution_count": 33,
   "metadata": {
    "ExecuteTime": {
     "end_time": "2021-10-02T20:00:18.674774Z",
     "start_time": "2021-10-02T20:00:18.657786Z"
    }
   },
   "outputs": [],
   "source": [
    "#We can use the modules or packages or library like pandas as follows(Full pacakge)\n",
    "import pandas as pd"
   ]
  },
  {
   "cell_type": "code",
   "execution_count": 35,
   "metadata": {
    "ExecuteTime": {
     "end_time": "2021-10-02T20:09:46.854912Z",
     "start_time": "2021-10-02T20:09:46.836920Z"
    }
   },
   "outputs": [],
   "source": [
    "# Dont import he full library istead you can import only the required classes ony which we use. \n",
    "# we can use a perticular method from the package to avoid the space consumption as follows\n",
    "from pandas import read_csv"
   ]
  },
  {
   "cell_type": "code",
   "execution_count": 40,
   "metadata": {
    "ExecuteTime": {
     "end_time": "2021-10-02T20:12:59.593158Z",
     "start_time": "2021-10-02T20:12:59.576652Z"
    }
   },
   "outputs": [
    {
     "data": {
      "text/plain": [
       "[9, 8, 7, 6, 5, 2, 1]"
      ]
     },
     "execution_count": 40,
     "metadata": {},
     "output_type": "execute_result"
    }
   ],
   "source": [
    "#This will change the list permanently, But if you use slicing list[::-1], it wont change the actual value(Use to retain the original value or order)\n",
    "list.reverse()\n",
    "list"
   ]
  },
  {
   "cell_type": "code",
   "execution_count": 41,
   "metadata": {
    "ExecuteTime": {
     "end_time": "2021-10-02T20:13:54.265763Z",
     "start_time": "2021-10-02T20:13:54.247777Z"
    }
   },
   "outputs": [
    {
     "data": {
      "text/plain": [
       "[9, 8, 7, 6, 5, 2, 1]"
      ]
     },
     "execution_count": 41,
     "metadata": {},
     "output_type": "execute_result"
    }
   ],
   "source": [
    "list"
   ]
  },
  {
   "cell_type": "code",
   "execution_count": 42,
   "metadata": {
    "ExecuteTime": {
     "end_time": "2021-10-02T20:15:19.060957Z",
     "start_time": "2021-10-02T20:15:19.046968Z"
    }
   },
   "outputs": [
    {
     "data": {
      "text/plain": [
       "[1, 2, 5, 6, 7, 8, 9]"
      ]
     },
     "execution_count": 42,
     "metadata": {},
     "output_type": "execute_result"
    }
   ],
   "source": [
    "list[::-1]"
   ]
  },
  {
   "cell_type": "code",
   "execution_count": null,
   "metadata": {},
   "outputs": [],
   "source": [
    "#if we are performing an action something is printing without calling, it wont change the actual item most of the times.\n",
    "#It will create a temporay item and print, If you assign it to some other item it can be returned using it else it will wont be stored.\n",
    "# If nothing is printed, it might change the original item"
   ]
  },
  {
   "cell_type": "markdown",
   "metadata": {},
   "source": [
    "## Sorting a list"
   ]
  },
  {
   "cell_type": "code",
   "execution_count": 44,
   "metadata": {
    "ExecuteTime": {
     "end_time": "2021-10-02T20:36:07.695401Z",
     "start_time": "2021-10-02T20:36:07.679411Z"
    }
   },
   "outputs": [],
   "source": [
    " lst = [100,120,110,95,105]"
   ]
  },
  {
   "cell_type": "code",
   "execution_count": 45,
   "metadata": {
    "ExecuteTime": {
     "end_time": "2021-10-02T20:36:10.038376Z",
     "start_time": "2021-10-02T20:36:10.023387Z"
    }
   },
   "outputs": [],
   "source": [
    "#Original list changed\n",
    "lst.sort()"
   ]
  },
  {
   "cell_type": "code",
   "execution_count": 46,
   "metadata": {
    "ExecuteTime": {
     "end_time": "2021-10-02T20:36:46.996601Z",
     "start_time": "2021-10-02T20:36:46.977613Z"
    }
   },
   "outputs": [
    {
     "data": {
      "text/plain": [
       "[95, 100, 105, 110, 120]"
      ]
     },
     "execution_count": 46,
     "metadata": {},
     "output_type": "execute_result"
    }
   ],
   "source": [
    "lst"
   ]
  },
  {
   "cell_type": "code",
   "execution_count": 47,
   "metadata": {
    "ExecuteTime": {
     "end_time": "2021-10-02T20:37:38.558813Z",
     "start_time": "2021-10-02T20:37:38.545823Z"
    }
   },
   "outputs": [],
   "source": [
    " lst = [100,120,110,95,105]"
   ]
  },
  {
   "cell_type": "code",
   "execution_count": 49,
   "metadata": {
    "ExecuteTime": {
     "end_time": "2021-10-02T20:38:18.727795Z",
     "start_time": "2021-10-02T20:38:18.710807Z"
    }
   },
   "outputs": [
    {
     "data": {
      "text/plain": [
       "[120, 110, 105, 100, 95]"
      ]
     },
     "execution_count": 49,
     "metadata": {},
     "output_type": "execute_result"
    }
   ],
   "source": [
    "lst.sort(reverse=True)\n",
    "lst"
   ]
  },
  {
   "cell_type": "code",
   "execution_count": 54,
   "metadata": {
    "ExecuteTime": {
     "end_time": "2021-10-02T20:43:43.713812Z",
     "start_time": "2021-10-02T20:43:43.705820Z"
    }
   },
   "outputs": [],
   "source": [
    "fruits = ['apple','dragon','orange','plum','kiwi']"
   ]
  },
  {
   "cell_type": "code",
   "execution_count": 57,
   "metadata": {
    "ExecuteTime": {
     "end_time": "2021-10-02T20:44:21.104152Z",
     "start_time": "2021-10-02T20:44:21.098154Z"
    }
   },
   "outputs": [],
   "source": [
    "L#logic to sort based on the length of \n",
    "def my_func(e):\n",
    "    return len(e)"
   ]
  },
  {
   "cell_type": "code",
   "execution_count": 68,
   "metadata": {
    "ExecuteTime": {
     "end_time": "2021-10-02T20:48:45.362108Z",
     "start_time": "2021-10-02T20:48:45.352117Z"
    }
   },
   "outputs": [],
   "source": [
    "# sorting based on the your choice(not alphabetical order), Our logic only.\n",
    "fruits.sort(key=my_func)"
   ]
  },
  {
   "cell_type": "code",
   "execution_count": 70,
   "metadata": {
    "ExecuteTime": {
     "end_time": "2021-10-02T20:48:57.763947Z",
     "start_time": "2021-10-02T20:48:57.742964Z"
    }
   },
   "outputs": [
    {
     "data": {
      "text/plain": [
       "['plum', 'kiwi', 'apple', 'dragon', 'orange']"
      ]
     },
     "execution_count": 70,
     "metadata": {},
     "output_type": "execute_result"
    }
   ],
   "source": [
    "fruits"
   ]
  },
  {
   "cell_type": "markdown",
   "metadata": {},
   "source": [
    "## List comprehension"
   ]
  },
  {
   "cell_type": "code",
   "execution_count": 75,
   "metadata": {
    "ExecuteTime": {
     "end_time": "2021-10-02T20:56:37.214437Z",
     "start_time": "2021-10-02T20:56:37.193323Z"
    }
   },
   "outputs": [],
   "source": [
    "lst= [2,7,8,4,9]"
   ]
  },
  {
   "cell_type": "code",
   "execution_count": 79,
   "metadata": {
    "ExecuteTime": {
     "end_time": "2021-10-02T20:57:01.840012Z",
     "start_time": "2021-10-02T20:57:01.824023Z"
    }
   },
   "outputs": [
    {
     "data": {
      "text/plain": [
       "[4, 49, 64, 16, 81]"
      ]
     },
     "execution_count": 79,
     "metadata": {},
     "output_type": "execute_result"
    }
   ],
   "source": [
    "#Squares\n",
    "lsqr= []\n",
    "for itr in lst:\n",
    "    sq= itr*itr\n",
    "    lsqr.append(sq)\n",
    "lsqr"
   ]
  },
  {
   "cell_type": "code",
   "execution_count": 82,
   "metadata": {
    "ExecuteTime": {
     "end_time": "2021-10-02T20:57:25.213726Z",
     "start_time": "2021-10-02T20:57:25.200736Z"
    }
   },
   "outputs": [
    {
     "data": {
      "text/plain": [
       "[4, 49, 64, 16, 81]"
      ]
     },
     "execution_count": 82,
     "metadata": {},
     "output_type": "execute_result"
    }
   ],
   "source": [
    "# can also write like follows\n",
    "for itr in lst:\n",
    "    lsqr.append(itr*itr)\n",
    "lsqr"
   ]
  },
  {
   "cell_type": "code",
   "execution_count": 81,
   "metadata": {
    "ExecuteTime": {
     "end_time": "2021-10-02T20:57:23.087116Z",
     "start_time": "2021-10-02T20:57:23.072123Z"
    }
   },
   "outputs": [],
   "source": [
    "lsqr= []"
   ]
  },
  {
   "cell_type": "code",
   "execution_count": 86,
   "metadata": {
    "ExecuteTime": {
     "end_time": "2021-10-02T21:02:09.041159Z",
     "start_time": "2021-10-02T21:02:09.019169Z"
    }
   },
   "outputs": [
    {
     "data": {
      "text/plain": [
       "[4, 49, 64, 16, 81]"
      ]
     },
     "execution_count": 86,
     "metadata": {},
     "output_type": "execute_result"
    }
   ],
   "source": [
    "#Using a list comprehension---Create an empty list and add the required values--eg.[ return value    function ]\n",
    "sqlico= [  itr*itr   for itr in lst ]\n",
    "sqlico"
   ]
  },
  {
   "cell_type": "code",
   "execution_count": 88,
   "metadata": {
    "ExecuteTime": {
     "end_time": "2021-10-02T21:03:57.589198Z",
     "start_time": "2021-10-02T21:03:57.571860Z"
    }
   },
   "outputs": [],
   "source": [
    "#exercise to create squares\n",
    "lst1=[200,700,800,400,900]"
   ]
  },
  {
   "cell_type": "code",
   "execution_count": 89,
   "metadata": {
    "ExecuteTime": {
     "end_time": "2021-10-02T21:03:59.225887Z",
     "start_time": "2021-10-02T21:03:59.203902Z"
    }
   },
   "outputs": [
    {
     "data": {
      "text/plain": [
       "[40000, 490000, 640000, 160000, 810000]"
      ]
     },
     "execution_count": 89,
     "metadata": {},
     "output_type": "execute_result"
    }
   ],
   "source": [
    "li2sqco= [ itr*itr   for itr in lst1]\n",
    "li2sqco"
   ]
  },
  {
   "cell_type": "code",
   "execution_count": 91,
   "metadata": {
    "ExecuteTime": {
     "end_time": "2021-10-02T21:11:05.983712Z",
     "start_time": "2021-10-02T21:11:05.967722Z"
    }
   },
   "outputs": [
    {
     "data": {
      "text/plain": [
       "[4, 64, 16]"
      ]
     },
     "execution_count": 91,
     "metadata": {},
     "output_type": "execute_result"
    }
   ],
   "source": [
    "#using a if condition in the list comprehension--Create an empty list and add the required values\n",
    "#eg.[ return value    function    if-condition]\n",
    "li3sqco= [ itr*itr   for itr in lst  if itr %2 == 0]\n",
    "li3sqco"
   ]
  },
  {
   "cell_type": "markdown",
   "metadata": {},
   "source": [
    "## Tuple"
   ]
  },
  {
   "cell_type": "code",
   "execution_count": 92,
   "metadata": {
    "ExecuteTime": {
     "end_time": "2021-10-02T21:12:03.292956Z",
     "start_time": "2021-10-02T21:12:03.284960Z"
    }
   },
   "outputs": [],
   "source": [
    "tup = (1,2,3)"
   ]
  },
  {
   "cell_type": "code",
   "execution_count": 93,
   "metadata": {
    "ExecuteTime": {
     "end_time": "2021-10-02T21:12:13.597871Z",
     "start_time": "2021-10-02T21:12:13.564885Z"
    }
   },
   "outputs": [
    {
     "ename": "TypeError",
     "evalue": "'tuple' object does not support item assignment",
     "output_type": "error",
     "traceback": [
      "\u001b[1;31m---------------------------------------------------------------------------\u001b[0m",
      "\u001b[1;31mTypeError\u001b[0m                                 Traceback (most recent call last)",
      "\u001b[1;32m<ipython-input-93-9687231f57de>\u001b[0m in \u001b[0;36m<module>\u001b[1;34m\u001b[0m\n\u001b[1;32m----> 1\u001b[1;33m \u001b[0mtup\u001b[0m\u001b[1;33m[\u001b[0m\u001b[1;36m2\u001b[0m\u001b[1;33m]\u001b[0m\u001b[1;33m=\u001b[0m \u001b[1;36m5\u001b[0m\u001b[1;33m\u001b[0m\u001b[1;33m\u001b[0m\u001b[0m\n\u001b[0m",
      "\u001b[1;31mTypeError\u001b[0m: 'tuple' object does not support item assignment"
     ]
    }
   ],
   "source": [
    "tup[2]= 5"
   ]
  },
  {
   "cell_type": "code",
   "execution_count": 94,
   "metadata": {
    "ExecuteTime": {
     "end_time": "2021-10-02T21:12:49.644810Z",
     "start_time": "2021-10-02T21:12:49.636813Z"
    }
   },
   "outputs": [],
   "source": [
    "##list inside a tuple can be updated/ modified\n",
    "tup1 = (1,2,[1,2,3],3)"
   ]
  },
  {
   "cell_type": "code",
   "execution_count": 95,
   "metadata": {
    "ExecuteTime": {
     "end_time": "2021-10-02T21:13:09.620355Z",
     "start_time": "2021-10-02T21:13:09.600367Z"
    }
   },
   "outputs": [
    {
     "ename": "TypeError",
     "evalue": "'tuple' object does not support item assignment",
     "output_type": "error",
     "traceback": [
      "\u001b[1;31m---------------------------------------------------------------------------\u001b[0m",
      "\u001b[1;31mTypeError\u001b[0m                                 Traceback (most recent call last)",
      "\u001b[1;32m<ipython-input-95-c77da9ad558c>\u001b[0m in \u001b[0;36m<module>\u001b[1;34m\u001b[0m\n\u001b[1;32m----> 1\u001b[1;33m \u001b[0mtup1\u001b[0m\u001b[1;33m[\u001b[0m\u001b[1;36m1\u001b[0m\u001b[1;33m]\u001b[0m\u001b[1;33m=\u001b[0m \u001b[1;36m5\u001b[0m\u001b[1;33m\u001b[0m\u001b[1;33m\u001b[0m\u001b[0m\n\u001b[0m",
      "\u001b[1;31mTypeError\u001b[0m: 'tuple' object does not support item assignment"
     ]
    }
   ],
   "source": [
    "tup1[1]= 5"
   ]
  },
  {
   "cell_type": "code",
   "execution_count": 96,
   "metadata": {
    "ExecuteTime": {
     "end_time": "2021-10-02T21:13:36.780071Z",
     "start_time": "2021-10-02T21:13:36.765079Z"
    }
   },
   "outputs": [],
   "source": [
    "tup1[2][2] = 333"
   ]
  },
  {
   "cell_type": "code",
   "execution_count": 97,
   "metadata": {
    "ExecuteTime": {
     "end_time": "2021-10-02T21:13:42.336657Z",
     "start_time": "2021-10-02T21:13:42.316669Z"
    }
   },
   "outputs": [
    {
     "data": {
      "text/plain": [
       "(1, 2, [1, 2, 333], 3)"
      ]
     },
     "execution_count": 97,
     "metadata": {},
     "output_type": "execute_result"
    }
   ],
   "source": [
    "tup1"
   ]
  },
  {
   "cell_type": "code",
   "execution_count": 98,
   "metadata": {
    "ExecuteTime": {
     "end_time": "2021-10-02T21:17:04.280617Z",
     "start_time": "2021-10-02T21:17:04.275619Z"
    }
   },
   "outputs": [],
   "source": [
    "#help Shift+tab, 2 time shift+tab- detailed help, 3 time- shift+tab- separate window attached to bottom of the notebook"
   ]
  }
 ],
 "metadata": {
  "kernelspec": {
   "display_name": "Python 3",
   "language": "python",
   "name": "python3"
  },
  "language_info": {
   "codemirror_mode": {
    "name": "ipython",
    "version": 3
   },
   "file_extension": ".py",
   "mimetype": "text/x-python",
   "name": "python",
   "nbconvert_exporter": "python",
   "pygments_lexer": "ipython3",
   "version": "3.7.4"
  },
  "varInspector": {
   "cols": {
    "lenName": 16,
    "lenType": 16,
    "lenVar": 40
   },
   "kernels_config": {
    "python": {
     "delete_cmd_postfix": "",
     "delete_cmd_prefix": "del ",
     "library": "var_list.py",
     "varRefreshCmd": "print(var_dic_list())"
    },
    "r": {
     "delete_cmd_postfix": ") ",
     "delete_cmd_prefix": "rm(",
     "library": "var_list.r",
     "varRefreshCmd": "cat(var_dic_list()) "
    }
   },
   "types_to_exclude": [
    "module",
    "function",
    "builtin_function_or_method",
    "instance",
    "_Feature"
   ],
   "window_display": false
  }
 },
 "nbformat": 4,
 "nbformat_minor": 2
}
